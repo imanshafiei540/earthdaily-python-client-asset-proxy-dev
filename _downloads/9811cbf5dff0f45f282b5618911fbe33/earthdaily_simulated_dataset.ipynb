{
  "cells": [
    {
      "cell_type": "markdown",
      "metadata": {},
      "source": [
        "\n# EarthDaily Simulated Dataset\n\nFollowing a pivot field\n"
      ]
    },
    {
      "cell_type": "markdown",
      "metadata": {},
      "source": [
        "## Import librairies\n\n"
      ]
    },
    {
      "cell_type": "code",
      "execution_count": null,
      "metadata": {
        "collapsed": false
      },
      "outputs": [],
      "source": [
        "import datetime\nimport earthdaily\nfrom dask.diagnostics import ProgressBar\nfrom matplotlib import pyplot as plt\nfrom earthdaily import datasets, EarthDataStore\n\nProgressBar().register()  # to have chunks progress bar"
      ]
    },
    {
      "cell_type": "markdown",
      "metadata": {},
      "source": [
        "## Loading pivot\n\n"
      ]
    },
    {
      "cell_type": "code",
      "execution_count": null,
      "metadata": {
        "collapsed": false
      },
      "outputs": [],
      "source": [
        "pivot = datasets.load_pivot_corumba()"
      ]
    },
    {
      "cell_type": "markdown",
      "metadata": {},
      "source": [
        "## Init earthdatastore with environment variables or default credentials\n\n"
      ]
    },
    {
      "cell_type": "code",
      "execution_count": null,
      "metadata": {
        "collapsed": false
      },
      "outputs": [],
      "source": [
        "eds = EarthDataStore()"
      ]
    },
    {
      "cell_type": "markdown",
      "metadata": {},
      "source": [
        "## Define timerange\n\n"
      ]
    },
    {
      "cell_type": "code",
      "execution_count": null,
      "metadata": {
        "collapsed": false
      },
      "outputs": [],
      "source": [
        "delta_days = 10\ndatetime_list = [\"2018-10-01\", \"2019-04-15\"]"
      ]
    },
    {
      "cell_type": "markdown",
      "metadata": {},
      "source": [
        "## Request items for vnir dataset\n\n"
      ]
    },
    {
      "cell_type": "code",
      "execution_count": null,
      "metadata": {
        "collapsed": false
      },
      "outputs": [],
      "source": [
        "items = eds.search(\n    \"earthdaily-simulated-cloudless-l2a-cog-edagro\",\n    intersects=pivot,\n    datetime=datetime_list,\n    query={\"instruments\": {\"contains\": \"vnir\"}},\n    prefer_alternate=\"download\",\n)[::delta_days]  # an keep on item every n delta_days"
      ]
    },
    {
      "cell_type": "markdown",
      "metadata": {},
      "source": [
        "## Generate datacube for RGB and NIR\n\n"
      ]
    },
    {
      "cell_type": "code",
      "execution_count": null,
      "metadata": {
        "collapsed": false
      },
      "outputs": [],
      "source": [
        "datacube = earthdaily.earthdatastore.datacube(\n    items, intersects=pivot, assets=[\"blue\", \"green\", \"red\", \"nir\"]\n).load()"
      ]
    },
    {
      "cell_type": "markdown",
      "metadata": {},
      "source": [
        "## Plot RGB image time series\n\n"
      ]
    },
    {
      "cell_type": "code",
      "execution_count": null,
      "metadata": {
        "collapsed": false
      },
      "outputs": [],
      "source": [
        "datacube[[\"red\", \"green\", \"blue\"]].ed.plot_rgb(\n    col=\"time\", col_wrap=4, vmax=0.2\n)"
      ]
    },
    {
      "cell_type": "markdown",
      "metadata": {},
      "source": [
        "## Plot mean RGB time series\n\n"
      ]
    },
    {
      "cell_type": "code",
      "execution_count": null,
      "metadata": {
        "collapsed": false
      },
      "outputs": [],
      "source": [
        "datacube[[\"blue\", \"green\", \"red\", \"nir\"]].groupby(\"time\").mean(...).to_array(\n    dim=\"band\"\n).plot(col=\"band\")"
      ]
    },
    {
      "cell_type": "markdown",
      "metadata": {},
      "source": [
        "## Plot NDVI evolution\n\n"
      ]
    },
    {
      "cell_type": "code",
      "execution_count": null,
      "metadata": {
        "collapsed": false
      },
      "outputs": [],
      "source": [
        "datacube[\"ndvi\"] = (datacube[\"nir\"] - datacube[\"red\"]) / (\n    datacube[\"nir\"] + datacube[\"red\"]\n)\n\nfig, ax = plt.subplots()\nmean_ndvi = datacube[[\"ndvi\"]].groupby(\"time\").mean(...).to_array(dim=\"band\")\nstd_ndvi = datacube[[\"ndvi\"]].groupby(\"time\").std(...).to_array(dim=\"band\")\nax.fill_between(\n    mean_ndvi.time,\n    (mean_ndvi.values + std_ndvi.values)[0, ...],\n    (mean_ndvi.values - std_ndvi.values)[0, ...],\n    alpha=0.3,\n    color=\"C1\",\n)\nmean_ndvi.plot(ax=ax, c=\"C1\")\nplt.grid(alpha=0.4)\nplt.title(\"NDVI evolution every 10 days\")"
      ]
    }
  ],
  "metadata": {
    "kernelspec": {
      "display_name": "Python 3",
      "language": "python",
      "name": "python3"
    },
    "language_info": {
      "codemirror_mode": {
        "name": "ipython",
        "version": 3
      },
      "file_extension": ".py",
      "mimetype": "text/x-python",
      "name": "python",
      "nbconvert_exporter": "python",
      "pygments_lexer": "ipython3",
      "version": "3.11.11"
    }
  },
  "nbformat": 4,
  "nbformat_minor": 0
}